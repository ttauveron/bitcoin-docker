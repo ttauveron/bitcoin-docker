{
 "cells": [
  {
   "cell_type": "markdown",
   "metadata": {},
   "source": [
    "## Mastering bitcoin"
   ]
  },
  {
   "cell_type": "markdown",
   "metadata": {},
   "source": [
    "### Login and init rpc connection"
   ]
  },
  {
   "cell_type": "code",
   "execution_count": 37,
   "metadata": {},
   "outputs": [
    {
     "name": "stdout",
     "output_type": "stream",
     "text": [
      "username : ttauveron\n",
      "password : ········\n"
     ]
    }
   ],
   "source": [
    "import getpass\n",
    "from bitcoinrpc.authproxy import AuthServiceProxy, JSONRPCException\n",
    "\n",
    "\n",
    "rpc_user = input('username : ')\n",
    "rpc_password = getpass.getpass('password : ')"
   ]
  },
  {
   "cell_type": "markdown",
   "metadata": {},
   "source": [
    "### Example 5. Running getinfo via Bitcoin Core’s JSON-RPC API"
   ]
  },
  {
   "cell_type": "code",
   "execution_count": 33,
   "metadata": {
    "scrolled": true
   },
   "outputs": [
    {
     "name": "stdout",
     "output_type": "stream",
     "text": [
      "573448\n"
     ]
    }
   ],
   "source": [
    "rpc_connection = AuthServiceProxy(\"http://%s:%s@bitcoin-core:8332\"%(rpc_user, rpc_password))\n",
    "\n",
    "info = rpc_connection.getblockchaininfo()\n",
    "print(info['blocks'])"
   ]
  },
  {
   "cell_type": "markdown",
   "metadata": {},
   "source": [
    "### Example 6. Retrieving a transaction and iterating its outputs"
   ]
  },
  {
   "cell_type": "code",
   "execution_count": 34,
   "metadata": {},
   "outputs": [
    {
     "name": "stdout",
     "output_type": "stream",
     "text": [
      "['1GdK9UzpHBzqzX2A9JFP3Di4weBwqgmoQA'] 0.01500000\n",
      "['1Cdid9KFAaatwczBwBttQcwXYCpvK8h7FK'] 0.08450000\n"
     ]
    }
   ],
   "source": [
    "rpc_connection = AuthServiceProxy(\"http://%s:%s@bitcoin-core:8332\"%(rpc_user, rpc_password))\n",
    "\n",
    "# Alice's transaction ID\n",
    "txid = \"0627052b6f28912f2703066a912ea577f2ce4da4caa5a5fbd8a57286c345c2f2\"\n",
    "\n",
    "# First, retrieve the raw transaction in hex\n",
    "raw_tx = rpc_connection.getrawtransaction(txid)\n",
    "\n",
    "# Decode the transaction hex into a JSON object\n",
    "decoded_tx = rpc_connection.decoderawtransaction(raw_tx)\n",
    "\n",
    "# Retrieve each of the outputs from the transaction\n",
    "for output in decoded_tx['vout']:\n",
    "    print(output['scriptPubKey']['addresses'], output['value'])"
   ]
  },
  {
   "cell_type": "markdown",
   "metadata": {},
   "source": [
    "### Example 7. Retrieving a block and adding all the transaction outputs"
   ]
  },
  {
   "cell_type": "code",
   "execution_count": 35,
   "metadata": {},
   "outputs": [
    {
     "name": "stdout",
     "output_type": "stream",
     "text": [
      "Total value in block:  10322.07722534\n"
     ]
    }
   ],
   "source": [
    "rpc_connection = AuthServiceProxy(\"http://%s:%s@bitcoin-core:8332\"%(rpc_user, rpc_password))\n",
    "\n",
    "# The block height where Alice's transaction was recorded\n",
    "blockheight = 277316\n",
    "\n",
    "# Get the block hash of block with height 277316\n",
    "blockhash = rpc_connection.getblockhash(blockheight)\n",
    "\n",
    "# Retrieve the block by its hash\n",
    "block = rpc_connection.getblock(blockhash)\n",
    "\n",
    "# Element tx contains the list of all transaction IDs in the block\n",
    "transactions = block['tx']\n",
    "\n",
    "block_value = 0\n",
    "\n",
    "# Iterate through each transaction ID in the block\n",
    "for txid in transactions:\n",
    "    tx_value = 0\n",
    "    # Retrieve the raw transaction by ID\n",
    "    raw_tx = rpc_connection.getrawtransaction(txid)\n",
    "    # Decode the transaction\n",
    "    decoded_tx = rpc_connection.decoderawtransaction(raw_tx)\n",
    "    # Iterate through each output in the transaction\n",
    "    for output in decoded_tx['vout']:\n",
    "        # Add up the value of each output\n",
    "        tx_value = tx_value + output['value']\n",
    "\n",
    "    # Add the value of this transaction to the total\n",
    "    block_value = block_value + tx_value\n",
    "\n",
    "print(\"Total value in block: \", block_value)\n"
   ]
  },
  {
   "cell_type": "markdown",
   "metadata": {},
   "source": [
    "### Listing  addresses"
   ]
  },
  {
   "cell_type": "code",
   "execution_count": 81,
   "metadata": {},
   "outputs": [
    {
     "name": "stdout",
     "output_type": "stream",
     "text": [
      "- Label : \"\"\n",
      "  - Address : 38L4YC37vTNprrLjsRiJRMVL2LB3GqjScz\n",
      "  - Address : 3DdXpYUbNaRi6oVoZnmakwoQgp4rYu2yft\n",
      "\n",
      "- Label : \"test\"\n",
      "  - Address : 3JaUw7THoHxrQShxDS4ynDVUiMkZNGmsNo\n",
      "\n",
      "- Label : \"test2\"\n",
      "  - Address : 32ov2yF3DqPriX1mwfZYR3Chqyg7c4nYaP\n",
      "  - Address : 37pExPEE99Df3EcgTMoXSL2Et96UWcKQH9\n",
      "  - Address : 3EUjAAvFZrZMyrMJdT1cWqDr1hdtkjVHJy\n",
      "\n"
     ]
    }
   ],
   "source": [
    "rpc_connection = AuthServiceProxy(\"http://%s:%s@bitcoin-core:8332\"%(rpc_user, rpc_password))\n",
    "\n",
    "for label in rpc_connection.listlabels():\n",
    "    print('- Label : \"' + str(label) + '\"')\n",
    "    for address in rpc_connection.getaddressesbylabel(label):\n",
    "        print('  - Address :',address)\n",
    "        #print('    Private key :', rpc_connection.dumpprivkey(address))\n",
    "    print()"
   ]
  }
 ],
 "metadata": {
  "kernelspec": {
   "display_name": "Python 3",
   "language": "python",
   "name": "python3"
  },
  "language_info": {
   "codemirror_mode": {
    "name": "ipython",
    "version": 3
   },
   "file_extension": ".py",
   "mimetype": "text/x-python",
   "name": "python",
   "nbconvert_exporter": "python",
   "pygments_lexer": "ipython3",
   "version": "3.7.1"
  }
 },
 "nbformat": 4,
 "nbformat_minor": 2
}
