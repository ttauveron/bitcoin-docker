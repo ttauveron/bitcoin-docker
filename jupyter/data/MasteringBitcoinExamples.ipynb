{
 "cells": [
  {
   "cell_type": "markdown",
   "metadata": {},
   "source": [
    "## Mastering bitcoin"
   ]
  },
  {
   "cell_type": "markdown",
   "metadata": {},
   "source": [
    "### Login and init rpc connection"
   ]
  },
  {
   "cell_type": "code",
   "execution_count": 16,
   "metadata": {},
   "outputs": [
    {
     "name": "stdout",
     "output_type": "stream",
     "text": [
      "username : ttauveron\n",
      "password : ········\n"
     ]
    }
   ],
   "source": [
    "import getpass\n",
    "from bitcoinrpc.authproxy import AuthServiceProxy, JSONRPCException\n",
    "\n",
    "\n",
    "rpc_user = input('username : ')\n",
    "rpc_password = getpass.getpass('password : ')\n",
    "\n",
    "rpc_connection = AuthServiceProxy(\"http://%s:%s@bitcoin-core:8332\"%(rpc_user, rpc_password))"
   ]
  },
  {
   "cell_type": "markdown",
   "metadata": {},
   "source": [
    "### Example 5"
   ]
  },
  {
   "cell_type": "code",
   "execution_count": 17,
   "metadata": {
    "scrolled": true
   },
   "outputs": [
    {
     "name": "stdout",
     "output_type": "stream",
     "text": [
      "551733\n"
     ]
    }
   ],
   "source": [
    "info = rpc_connection.getblockchaininfo()\n",
    "print(info['blocks'])"
   ]
  },
  {
   "cell_type": "markdown",
   "metadata": {},
   "source": [
    "### Example 6"
   ]
  },
  {
   "cell_type": "code",
   "execution_count": 18,
   "metadata": {},
   "outputs": [
    {
     "name": "stdout",
     "output_type": "stream",
     "text": [
      "['1GdK9UzpHBzqzX2A9JFP3Di4weBwqgmoQA'] 0.01500000\n",
      "['1Cdid9KFAaatwczBwBttQcwXYCpvK8h7FK'] 0.08450000\n"
     ]
    }
   ],
   "source": [
    "# Alice's transaction ID\n",
    "txid = \"0627052b6f28912f2703066a912ea577f2ce4da4caa5a5fbd8a57286c345c2f2\"\n",
    "\n",
    "# First, retrieve the raw transaction in hex\n",
    "raw_tx = rpc_connection.getrawtransaction(txid)\n",
    "\n",
    "# Decode the transaction hex into a JSON object\n",
    "decoded_tx = rpc_connection.decoderawtransaction(raw_tx)\n",
    "\n",
    "# Retrieve each of the outputs from the transaction\n",
    "for output in decoded_tx['vout']:\n",
    "    print(output['scriptPubKey']['addresses'], output['value'])"
   ]
  }
 ],
 "metadata": {
  "kernelspec": {
   "display_name": "Python 3",
   "language": "python",
   "name": "python3"
  },
  "language_info": {
   "codemirror_mode": {
    "name": "ipython",
    "version": 3
   },
   "file_extension": ".py",
   "mimetype": "text/x-python",
   "name": "python",
   "nbconvert_exporter": "python",
   "pygments_lexer": "ipython3",
   "version": "3.7.1"
  }
 },
 "nbformat": 4,
 "nbformat_minor": 2
}
